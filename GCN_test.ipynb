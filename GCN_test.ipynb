
import json
import networkx as nx
import matplotlib.pyplot as plt
with open("smerp_labeled_validation.json", "r") as read_file:
    data = json.load(read_file)

g = nx.Graph()
for object in data:
    g.add_node(object)

for n1 in data:
    for n2 in data:
        for c1 in data[n1]['classes']:
            if(c1 in data[n2]['classes']):
                g.add_edge(n1, n2)


nx.draw(g, with_labels=True)
plt.show()
