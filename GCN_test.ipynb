{
  "nbformat": 4,
  "nbformat_minor": 0,
  "metadata": {
    "colab": {
      "name": "GCN_test.ipynb",
      "provenance": [],
      "collapsed_sections": [],
      "include_colab_link": true
    },
    "kernelspec": {
      "name": "python3",
      "display_name": "Python 3"
    }
  },
  "cells": [
    {
      "cell_type": "markdown",
      "metadata": {
        "id": "view-in-github",
        "colab_type": "text"
      },
      "source": [
        "<a href=\"https://colab.research.google.com/github/ShreyasHavaldar7/GCN_Project/blob/master/GCN_test.ipynb\" target=\"_parent\"><img src=\"https://colab.research.google.com/assets/colab-badge.svg\" alt=\"Open In Colab\"/></a>"
      ]
    },
    {
      "cell_type": "code",
      "metadata": {
        "id": "k5tiUxtYCYUg",
        "colab_type": "code",
        "colab": {}
      },
      "source": [
        "import json\n",
        "import networkx as nx\n",
        "import matplotlib.pyplot as plt\n",
        "with open(\"smerp_labeled_validation.json\", \"r\") as read_file:\n",
        "    data = json.load(read_file)\n",
        "\n",
        "g = nx.Graph()\n",
        "for object in data:\n",
        "    g.add_node(object)\n",
        "\n",
        "for n1 in data:\n",
        "    for n2 in data:\n",
        "        for c1 in data[n1]['classes']:\n",
        "            if(c1 in data[n2]['classes']):\n",
        "                g.add_edge(n1, n2)\n",
        "\n",
        "\n",
        "nx.draw(g, with_labels=True)\n",
        "plt.show()"
      ],
      "execution_count": 0,
      "outputs": []
    }
  ]
}